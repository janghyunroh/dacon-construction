{
 "cells": [
  {
   "cell_type": "code",
   "execution_count": 1,
   "metadata": {},
   "outputs": [
    {
     "name": "stderr",
     "output_type": "stream",
     "text": [
      "/opt/conda/envs/dacon/lib/python3.8/site-packages/tqdm/auto.py:21: TqdmWarning: IProgress not found. Please update jupyter and ipywidgets. See https://ipywidgets.readthedocs.io/en/stable/user_install.html\n",
      "  from .autonotebook import tqdm as notebook_tqdm\n"
     ]
    }
   ],
   "source": [
    "import pandas as pd\n",
    "import numpy as np\n",
    "import torch\n",
    "from sklearn.metrics.pairwise import cosine_similarity\n",
    "from tqdm.auto import tqdm\n",
    "from sentence_transformers import SentenceTransformer\n",
    "from transformers import AutoModelForCausalLM, AutoTokenizer"
   ]
  },
  {
   "cell_type": "code",
   "execution_count": 2,
   "metadata": {},
   "outputs": [
    {
     "name": "stderr",
     "output_type": "stream",
     "text": [
      "A new version of the following files was downloaded from https://huggingface.co/LGAI-EXAONE/EXAONE-3.5-2.4B-Instruct:\n",
      "- configuration_exaone.py\n",
      ". Make sure to double-check they do not contain any added malicious code. To avoid downloading new versions of the code file, you can pin a revision.\n",
      "A new version of the following files was downloaded from https://huggingface.co/LGAI-EXAONE/EXAONE-3.5-2.4B-Instruct:\n",
      "- modeling_exaone.py\n",
      ". Make sure to double-check they do not contain any added malicious code. To avoid downloading new versions of the code file, you can pin a revision.\n",
      "Downloading shards: 100%|██████████| 2/2 [07:07<00:00, 213.61s/it]\n",
      "Loading checkpoint shards: 100%|██████████| 2/2 [00:01<00:00,  1.34it/s]\n"
     ]
    }
   ],
   "source": [
    "# 모델 로드\n",
    "model = SentenceTransformer(\"jhgan/ko-sbert-sts\")\n",
    "model_name = \"LGAI-EXAONE/EXAONE-3.5-2.4B-Instruct\"\n",
    "llm_model = AutoModelForCausalLM.from_pretrained(model_name, torch_dtype=torch.bfloat16, trust_remote_code=True, device_map=\"auto\")\n",
    "tokenizer = AutoTokenizer.from_pretrained(model_name)"
   ]
  },
  {
   "cell_type": "code",
   "execution_count": 3,
   "metadata": {},
   "outputs": [],
   "source": [
    "# 데이터 로드\n",
    "train = pd.read_csv(\"./datas/train.csv\")\n",
    "test = pd.read_csv(\"./datas/test.csv\")\n",
    "sample = pd.read_csv(\"./datas/sample_submission.csv\")"
   ]
  },
  {
   "cell_type": "code",
   "execution_count": 4,
   "metadata": {},
   "outputs": [
    {
     "name": "stderr",
     "output_type": "stream",
     "text": [
      "Batches: 100%|██████████| 2/2 [00:00<00:00,  8.83it/s]\n",
      "Batches: 100%|██████████| 4/4 [00:00<00:00, 111.44it/s]\n",
      "Batches: 100%|██████████| 60/60 [00:00<00:00, 130.45it/s]\n",
      "Batches: 100%|██████████| 17/17 [00:00<00:00, 113.64it/s]\n",
      "Batches: 100%|██████████| 80/80 [00:00<00:00, 122.19it/s]\n",
      "Batches: 100%|██████████| 65/65 [00:00<00:00, 131.71it/s]\n",
      "Batches: 100%|██████████| 47/47 [00:00<00:00, 127.49it/s]\n",
      "Batches: 100%|██████████| 69/69 [00:00<00:00, 128.44it/s]\n",
      "Batches: 100%|██████████| 7/7 [00:00<00:00, 119.82it/s]\n",
      "Batches: 100%|██████████| 55/55 [00:00<00:00, 127.33it/s]\n",
      "Batches: 100%|██████████| 24/24 [00:00<00:00, 114.91it/s]\n",
      "Batches: 100%|██████████| 18/18 [00:00<00:00, 113.95it/s]\n",
      "Batches: 100%|██████████| 10/10 [00:00<00:00, 110.70it/s]\n",
      "Batches: 100%|██████████| 23/23 [00:00<00:00, 121.22it/s]\n",
      "Batches: 100%|██████████| 109/109 [00:00<00:00, 121.12it/s]\n",
      "Batches: 100%|██████████| 57/57 [00:00<00:00, 124.21it/s]\n",
      "Batches: 100%|██████████| 8/8 [00:00<00:00, 113.52it/s]\n",
      "Batches: 100%|██████████| 7/7 [00:00<00:00, 117.67it/s]\n",
      "Batches: 100%|██████████| 52/52 [00:00<00:00, 123.66it/s]\n",
      "Batches: 100%|██████████| 12/12 [00:00<00:00, 118.18it/s]\n",
      "Batches: 100%|██████████| 1/1 [00:00<00:00, 98.60it/s]\n",
      "Batches: 100%|██████████| 10/10 [00:00<00:00, 116.67it/s]\n",
      "Batches: 100%|██████████| 6/6 [00:00<00:00, 101.57it/s]\n",
      "100%|██████████| 23/23 [00:13<00:00,  1.65it/s]\n"
     ]
    }
   ],
   "source": [
    "grouped = train.groupby(\"인적사고\")\n",
    "\n",
    "res = {}\n",
    "res_enhanced = {}\n",
    "cosine_res = []\n",
    "\n",
    "for name, group in tqdm(grouped):\n",
    "    plan = group[\"재발방지대책 및 향후조치계획\"]\n",
    "    sentences = plan.tolist()\n",
    "    vectors = model.encode(sentences, batch_size=32, show_progress_bar=True)\n",
    "\n",
    "    similarity = cosine_similarity(vectors, vectors)\n",
    "    best_idx = similarity.mean(axis=1).argmax()\n",
    "\n",
    "    cosine_res += similarity[best_idx].tolist()\n",
    "    representative_plan = plan.iloc[best_idx]\n",
    "    res[name] = representative_plan\n",
    "\n",
    "    # RAG 적용 - 대회 규칙 준수를 위한...\n",
    "    rag_prompt = f\"\"\"\n",
    "    내가 두 번은 안 묻는다카이. 니가 받은 내용 그대로만 말하면 되는 기다. 알았나?\n",
    "    니가 멋대로 뭐 바꾸거나 추가하면 안된다 이기야. 그냥 받은 내용 그~대로 말하면 되는 기라. 명심해라!\n",
    "\n",
    "    {representative_plan}\"\"\"\n",
    "\n",
    "    messages = [{\"role\": \"system\", \"content\": \"전달받은 내용을 단 한 글자도 바꾸지 않고 완전히 그대로 출력합니다.\"}, {\"role\": \"user\", \"content\": rag_prompt}]\n",
    "\n",
    "    input_ids = tokenizer.apply_chat_template(messages, tokenize=True, add_generation_prompt=True, return_tensors=\"pt\")\n",
    "\n",
    "    output = llm_model.generate(\n",
    "        input_ids.to(llm_model.device),\n",
    "        eos_token_id=tokenizer.eos_token_id,\n",
    "        max_new_tokens=256,\n",
    "        do_sample=False,\n",
    "        temperature=None,\n",
    "    )\n",
    "\n",
    "    generated_text = tokenizer.decode(output[0], skip_special_tokens=True)\n",
    "    assistant_response = generated_text.split(\"[|assistant|]\")[-1].strip()\n",
    "    res_enhanced[name] = assistant_response"
   ]
  },
  {
   "cell_type": "code",
   "execution_count": 5,
   "metadata": {},
   "outputs": [],
   "source": [
    "res_v = {}\n",
    "res_enhanced_v = {}\n",
    "\n",
    "for k, v in res.items():\n",
    "    res_v[k] = model.encode(v)\n",
    "    res_enhanced_v[k] = model.encode(res_enhanced[k])\n",
    "\n",
    "for i in range(len(test)):\n",
    "    accident = test.loc[i, \"인적사고\"]\n",
    "\n",
    "    if accident in res_enhanced:\n",
    "        sample.loc[i, \"재발방지대책 및 향후조치계획\"] = res_enhanced[accident]\n",
    "        sample.iloc[i, 2:] = res_enhanced_v[accident]\n",
    "\n",
    "sample.to_csv(\"nollm+rag_baseline_submission.csv\", index=False, encoding=\"utf-8-sig\")"
   ]
  }
 ],
 "metadata": {
  "kernelspec": {
   "display_name": "Python (dacon)",
   "language": "python",
   "name": "dacon"
  },
  "language_info": {
   "codemirror_mode": {
    "name": "ipython",
    "version": 3
   },
   "file_extension": ".py",
   "mimetype": "text/x-python",
   "name": "python",
   "nbconvert_exporter": "python",
   "pygments_lexer": "ipython3",
   "version": "3.8.20"
  }
 },
 "nbformat": 4,
 "nbformat_minor": 2
}
